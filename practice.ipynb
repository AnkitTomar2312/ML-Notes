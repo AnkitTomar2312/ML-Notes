{
 "cells": [
  {
   "cell_type": "code",
   "execution_count": 23,
   "metadata": {},
   "outputs": [
    {
     "name": "stdout",
     "output_type": "stream",
     "text": [
      "0.583\n",
      "0.554\n"
     ]
    }
   ],
   "source": [
    "import numpy as np\n",
    "data=np.loadtxt(\"https://files.codingninjas.in/data-6984.csv\",delimiter=',')\n",
    "X=data[:,0].reshape(-1,1)\n",
    "Y=data[:,1]\n",
    "from sklearn import model_selection\n",
    "X_train,X_test,Y_train,Y_test=model_selection.train_test_split(X,Y,test_size=0.3,random_state=42)\n",
    "X_train.shape\n",
    "from sklearn import linear_model\n",
    "lr1=linear_model.LinearRegression()\n",
    "lr1.fit(X_train,Y_train)\n",
    "y_pred=lr1.predict(X_test)\n",
    "score_test=lr1.score(X_test,Y_test)\n",
    "score_train=lr1.score(X_train,Y_train)\n",
    "print(round(score_test,3))\n",
    "print(round(score_train,3))"
   ]
  }
 ],
 "metadata": {
  "kernelspec": {
   "display_name": "Python 3",
   "language": "python",
   "name": "python3"
  },
  "language_info": {
   "codemirror_mode": {
    "name": "ipython",
    "version": 3
   },
   "file_extension": ".py",
   "mimetype": "text/x-python",
   "name": "python",
   "nbconvert_exporter": "python",
   "pygments_lexer": "ipython3",
   "version": "3.12.4"
  }
 },
 "nbformat": 4,
 "nbformat_minor": 2
}
