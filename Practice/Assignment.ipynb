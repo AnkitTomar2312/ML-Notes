{
 "cells": [
  {
   "cell_type": "code",
   "execution_count": 42,
   "metadata": {},
   "outputs": [],
   "source": [
    "from sklearn import model_selection,linear_model\n",
    "import numpy as np\n",
    "train_data=np.genfromtxt(\"./assets'/train.csv\", delimiter=\",\",skip_header=1)\n",
    "X_train=train_data[:,:-1]\n",
    "Y_train=train_data[:,-1]\n",
    "lr1=linear_model.LinearRegression()\n",
    "lr1.fit(X_train,Y_train)\n",
    "test_data=np.genfromtxt(\"./assets'/test.csv\",delimiter=',')\n",
    "Y_pred=lr1.predict(test_data)\n",
    "np.savetxt(\"./assets'/Y_pred.csv\",Y_pred,delimiter=',',fmt=\"%.5f\")"
   ]
  },
  {
   "cell_type": "code",
   "execution_count": 94,
   "metadata": {},
   "outputs": [
    {
     "name": "stdout",
     "output_type": "stream",
     "text": [
      "Index(['CRIM', 'ZN', 'INDUS', 'CHAS', 'NOX', 'RM', 'AGE', 'DIS', 'RAD', 'TAX',\n",
      "       'PTRATIO', 'B', 'LSTAT', 'target'],\n",
      "      dtype='object')\n",
      "0.748087259862344 0.684426728352709\n",
      "1.0 1.0\n",
      "Score imporved\n"
     ]
    }
   ],
   "source": [
    "import pandas as pd\n",
    "import numpy as np\n",
    "from sklearn import datasets\n",
    "from sklearn.model_selection import train_test_split\n",
    "from sklearn.linear_model import LinearRegression\n",
    "df = pd.read_csv(\"./assets/boston.csv\")\n",
    "X=df.drop(columns=\"target\")\n",
    "Y=df[\"target\"]\n",
    "print(df.columns)\n",
    "df['AGE_AGE']=df.AGE**2\n",
    "df['RM_RM']=df.RM**2\n",
    "X1=df.values\n",
    "X_train,X_test,Y_train,Y_test=model_selection.train_test_split(X,Y,random_state=42)\n",
    "X1_train,X1_test,Y1_train,Y1_test=model_selection.train_test_split(X1,Y,random_state=42)\n",
    "#print(X_train.shape,Y_train.shape,X_test.shape,Y_test.shape)\n",
    "lr1=LinearRegression()\n",
    "lr1.fit(X_train,Y_train)\n",
    "Y1pred=lr1.predict(X_test)\n",
    "lr1_trainScore=lr1.score(X_train,Y_train)\n",
    "lr1_testScore=lr1.score(X_test,Y_test)\n",
    "print(lr1_trainScore,lr1_testScore)\n",
    "lr2=LinearRegression()\n",
    "lr2.fit(X1_train,Y1_train)\n",
    "Y1pred=lr2.predict(X1_test)\n",
    "lr2_trainScore=lr2.score(X1_train,Y1_train)\n",
    "lr2_testScore=lr2.score(X1_test,Y1_test)\n",
    "print(lr2_trainScore,lr2_testScore)\n",
    "if lr2_trainScore>lr1_trainScore and lr2_testScore>lr1_testScore:\n",
    "    print(\"Score imporved\")\n",
    "else:\n",
    "    print(\"Score not improved\")\n"
   ]
  },
  {
   "cell_type": "code",
   "execution_count": 1,
   "metadata": {},
   "outputs": [
    {
     "name": "stdout",
     "output_type": "stream",
     "text": [
      "0.0\n",
      "11.707956426026037\n"
     ]
    }
   ],
   "source": [
    "import numpy as np\n",
    "from sklearn.preprocessing import StandardScaler\n",
    "data=[[0,3],[9,4],[2,7],[1,1]]\n",
    "scaler=StandardScaler()\n",
    "scaler.fit(data)\n",
    "first=scaler.transform(data)\n",
    "second=scaler.transform([[12,13],[1,4],[10,7],[1,9]])\n",
    "print(first.sum())\n",
    "print(second.sum())"
   ]
  }
 ],
 "metadata": {
  "kernelspec": {
   "display_name": "Python 3",
   "language": "python",
   "name": "python3"
  },
  "language_info": {
   "codemirror_mode": {
    "name": "ipython",
    "version": 3
   },
   "file_extension": ".py",
   "mimetype": "text/x-python",
   "name": "python",
   "nbconvert_exporter": "python",
   "pygments_lexer": "ipython3",
   "version": "3.12.4"
  }
 },
 "nbformat": 4,
 "nbformat_minor": 2
}
