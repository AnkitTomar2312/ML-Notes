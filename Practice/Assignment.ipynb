{
 "cells": [
  {
   "cell_type": "code",
   "execution_count": 42,
   "metadata": {},
   "outputs": [],
   "source": [
    "from sklearn import model_selection,linear_model\n",
    "import numpy as np\n",
    "train_data=np.genfromtxt(\"./assets'/train.csv\", delimiter=\",\",skip_header=1)\n",
    "X_train=train_data[:,:-1]\n",
    "Y_train=train_data[:,-1]\n",
    "lr1=linear_model.LinearRegression()\n",
    "lr1.fit(X_train,Y_train)\n",
    "test_data=np.genfromtxt(\"./assets'/test.csv\",delimiter=',')\n",
    "Y_pred=lr1.predict(test_data)\n",
    "np.savetxt(\"./assets'/Y_pred.csv\",Y_pred,delimiter=',',fmt=\"%.5f\")"
   ]
  }
 ],
 "metadata": {
  "kernelspec": {
   "display_name": "Python 3",
   "language": "python",
   "name": "python3"
  },
  "language_info": {
   "codemirror_mode": {
    "name": "ipython",
    "version": 3
   },
   "file_extension": ".py",
   "mimetype": "text/x-python",
   "name": "python",
   "nbconvert_exporter": "python",
   "pygments_lexer": "ipython3",
   "version": "3.12.4"
  }
 },
 "nbformat": 4,
 "nbformat_minor": 2
}
