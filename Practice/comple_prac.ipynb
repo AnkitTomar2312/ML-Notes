{
 "cells": [
  {
   "cell_type": "code",
   "execution_count": 54,
   "metadata": {},
   "outputs": [
    {
     "name": "stdout",
     "output_type": "stream",
     "text": [
      "          age       sex       bmi  ...        s4        s5        s6\n",
      "0    0.038076  0.050680  0.061696  ... -0.002592  0.019907 -0.017646\n",
      "1   -0.001882 -0.044642 -0.051474  ... -0.039493 -0.068332 -0.092204\n",
      "2    0.085299  0.050680  0.044451  ... -0.002592  0.002861 -0.025930\n",
      "3   -0.089063 -0.044642 -0.011595  ...  0.034309  0.022688 -0.009362\n",
      "4    0.005383 -0.044642 -0.036385  ... -0.002592 -0.031988 -0.046641\n",
      "..        ...       ...       ...  ...       ...       ...       ...\n",
      "437  0.041708  0.050680  0.019662  ... -0.002592  0.031193  0.007207\n",
      "438 -0.005515  0.050680 -0.015906  ...  0.034309 -0.018114  0.044485\n",
      "439  0.041708  0.050680 -0.015906  ... -0.011080 -0.046883  0.015491\n",
      "440 -0.045472 -0.044642  0.039062  ...  0.026560  0.044529 -0.025930\n",
      "441 -0.045472 -0.044642 -0.073030  ... -0.039493 -0.004222  0.003064\n",
      "\n",
      "[442 rows x 10 columns]\n",
      "Train Score: 0.5554337250189862\n",
      "Test Scroe: 0.35940880381777107\n"
     ]
    }
   ],
   "source": [
    "from sklearn import datasets,model_selection,linear_model\n",
    "import pandas as pd\n",
    "train=[]\n",
    "test=[]\n",
    "diab=datasets.load_diabetes()\n",
    "X=diab.data\n",
    "Y=diab.target\n",
    "df=pd.DataFrame(X)\n",
    "df.columns=diab.feature_names\n",
    "print(df)\n",
    "\n",
    "x_train,x_test,y_train,y_test=model_selection.train_test_split(X,Y,random_state=0)\n",
    "lr=linear_model.LinearRegression()\n",
    "lr.fit(x_train,y_train)\n",
    "y_pred=lr.predict(x_test)\n",
    "train_score=lr.score(x_train,y_train)\n",
    "test_score=lr.score(x_test,y_test)\n",
    "print(\"Train Score:\",train_score)\n",
    "print(\"Test Scroe:\",test_score)\n"
   ]
  },
  {
   "cell_type": "code",
   "execution_count": 53,
   "metadata": {},
   "outputs": [
    {
     "name": "stdout",
     "output_type": "stream",
     "text": [
      "Train Score: 0.5671548231088137\n",
      "Test Score: 0.36638261138663375\n"
     ]
    }
   ],
   "source": [
    "df['age_age']=df.age**2\n",
    "df['bmi_bmi']=df.bmi**2\n",
    "df['s4_s4']=df.s4**2\n",
    "X2 = df.values\n",
    "x2_train,x2_test,y2_train,y2_test=model_selection.train_test_split(X2,Y,random_state=0)\n",
    "lr1=linear_model.LinearRegression()\n",
    "lr1.fit(x2_train,y2_train)\n",
    "y_pred=lr1.predict(x2_test)\n",
    "train_score=lr1.score(x2_train,y2_train)\n",
    "test_score=lr1.score(x2_test,y2_test)\n",
    "print(\"Train Score:\",train_score)\n",
    "print(\"Test Score:\",test_score)"
   ]
  }
 ],
 "metadata": {
  "kernelspec": {
   "display_name": "Python 3",
   "language": "python",
   "name": "python3"
  },
  "language_info": {
   "codemirror_mode": {
    "name": "ipython",
    "version": 3
   },
   "file_extension": ".py",
   "mimetype": "text/x-python",
   "name": "python",
   "nbconvert_exporter": "python",
   "pygments_lexer": "ipython3",
   "version": "3.12.4"
  }
 },
 "nbformat": 4,
 "nbformat_minor": 2
}
